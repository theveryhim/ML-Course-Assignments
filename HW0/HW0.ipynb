{
 "cells": [
  {
   "cell_type": "markdown",
   "metadata": {
    "id": "b3x3Nl7-bdsj"
   },
   "source": [
    "<h1 align=\"center\">Machine Learning</h1>\n",
    "<h3 align=\"center\">Dr. Mohammad Bagher Shamsollahi</h3>\n",
    "<h5 align=\"center\">Sharif University of Technology<br/>Electrical Engineering Department</h5>\n",
    "\n",
    "---\n",
    "\n",
    "Welcome to your first assignment. This exercise gives you a brief introduction to Python. \n",
    "\n",
    "> **Instructions:**\n",
    "> * You will be using Python 3.\n",
    "> * Please upload your assignment on CW.\n",
    "> * Your file name should be in format of ***HW# _Name_Student ID***\n",
    "> * Do not upload other students’ answers.\n",
    "> * If you have any inquiry regarding this assignment, message '@amirsina_bb99' in Telegram.\n",
    "\n"
   ]
  },
  {
   "cell_type": "markdown",
   "metadata": {},
   "source": [
    "## About iPython Notebooks ##\n",
    "\n",
    "iPython Notebooks are interactive coding environments embedded in a webpage. You will be using iPython notebooks in this class. You only need to write code between the ### START CODE HERE ### and ### END CODE HERE ### comments. After writing your code, you can run the cell by either pressing \"SHIFT\"+\"ENTER\" or by clicking on \"Run Cell\" (denoted by a play symbol) in the upper bar of the notebook. \n",
    "\n",
    "**Exercise**: Set your StudentName and StudentID in the cell below to print and run the cell."
   ]
  },
  {
   "cell_type": "code",
   "execution_count": 1,
   "metadata": {
    "colab": {
     "base_uri": "https://localhost:8080/"
    },
    "id": "dW-cSYh0cGfb",
    "outputId": "5d56cd0a-130f-48ce-b2ef-c9bce95b5de0"
   },
   "outputs": [
    {
     "name": "stdout",
     "output_type": "stream",
     "text": [
      "StudentName:Mohammad Arman Yazdani , StudentID:400102255\n"
     ]
    }
   ],
   "source": [
    "### Please Fill the following entries\n",
    "StudentName = \"Mohammad Arman Yazdani\"\n",
    "StudentID   = \"400102255\"\n",
    "\n",
    "print (f'StudentName:{StudentName} , StudentID:{StudentID}')"
   ]
  },
  {
   "cell_type": "markdown",
   "metadata": {
    "id": "2ab258e1"
   },
   "source": [
    "## 1.(9 pts)\n",
    "What are the lengths of the following lists and strings below? Fill in the variable `lengths` with your predictions. (Try to make a prediction for each list *without* just calling `len()` on it.)"
   ]
  },
  {
   "cell_type": "code",
   "execution_count": 21,
   "metadata": {
    "id": "ef188312"
   },
   "outputs": [
    {
     "data": {
      "text/plain": [
       "[3, 2, 2, 2, 0, 1, 3, 7, 8, 0, 2, 256, 4, 35]"
      ]
     },
     "execution_count": 21,
     "metadata": {},
     "output_type": "execute_result"
    }
   ],
   "source": [
    "a = [1, 2, 3]\n",
    "b = [1, [2, 3]]\n",
    "c = [1, [2, 3,[4 ,5]]] #Think about the lenght of c and length of c[1]\n",
    "d = [[1,2] , [3, 4]]\n",
    "e = []\n",
    "f = [[]]\n",
    "g = [1, 2, 3, 4, 5][1:4]\n",
    "h = 'it\\'s ok'\n",
    "i = 'it\\\\\\'s ok'\n",
    "j = \"\"    \n",
    "k = \"\"\"Ok\"\"\"\n",
    "l = '\\n\\n'\n",
    "m = '\\t'\n",
    "n = 5*(h+''+j)\n",
    "# Put your predictions in the list below. Lengths should contain 14 numbers, the\n",
    "# first being the length of a, the second being the length of b and so on.\n",
    "\n",
    "### START CODE HERE ###\n",
    "lengths = [3,2,2,2,0,1,3,7,8,0,2,256,4,35]\n",
    "### END CODE HERE ###\n",
    "\n",
    "lengths"
   ]
  },
  {
   "cell_type": "markdown",
   "metadata": {
    "id": "dKIP8WHd8eJh"
   },
   "source": [
    "## 2.(7 pts)\n",
    "Write a function that gets an integer as input and returns the factorial as the output."
   ]
  },
  {
   "cell_type": "code",
   "execution_count": 47,
   "metadata": {
    "id": "YR02cuVL8eKS"
   },
   "outputs": [
    {
     "name": "stdout",
     "output_type": "stream",
     "text": [
      "-1\n",
      "1\n",
      "120\n"
     ]
    }
   ],
   "source": [
    "def factorial(x):\n",
    "    ### START CODE HERE ###\n",
    "    out = 1\n",
    "    if (x!=0) and (x>0):\n",
    "        out = x * factorial(x-1)\n",
    "    elif (x!=0) and (x<0):\n",
    "        out = x * factorial(x+1)\n",
    "        ### END CODE HERE ###\n",
    "    return out\n",
    "print(factorial(-1))\n",
    "print(factorial(0))\n",
    "print(factorial(5))"
   ]
  },
  {
   "cell_type": "markdown",
   "metadata": {
    "id": "SG9eJ82C8eKc"
   },
   "source": [
    "## 3.(13 pts)\n",
    "A list of 30 tuples with random integers is given. Write a function that gets the list and index of tuple element which we want to sort based on (1st or 2nd) and return the sorted list in ascending order. In case of equal numbers, sort according to the other element. Example:\n",
    "\n",
    "\n",
    "```\n",
    "x = [(10,47),(15,47),(77,23),(15,34)]\n",
    "# sort list based on first element of tuples\n",
    "idx = 0\n",
    "result = [(10,47),(15,34),(15,47),(77,23)]\n",
    "# sort list based on second element of tuples\n",
    "idx = 1\n",
    "result = [(77,23),(15,34),(10,47),(15,47)]\n",
    "```\n",
    "\n"
   ]
  },
  {
   "cell_type": "code",
   "execution_count": 25,
   "metadata": {
    "id": "_oR_oL5O8eKd"
   },
   "outputs": [
    {
     "name": "stdout",
     "output_type": "stream",
     "text": [
      "Original list:\n",
      "[(12, 6), (42, 13), (37, 8), (50, 4), (3, 26), (46, 23), (45, 9), (13, 35), (49, 28), (50, 46), (8, 25), (13, 50), (38, 7), (26, 12), (49, 44), (49, 13), (18, 14), (30, 7), (14, 41), (44, 4), (26, 32), (27, 34), (48, 8), (27, 12), (38, 7), (40, 11), (24, 43), (31, 43), (48, 38), (33, 10)]\n",
      "Sorted list based on 1st element:\n",
      "[[(3, 26)], [(8, 25)], [(12, 6)], [(13, 35), (13, 50)], [(14, 41)], [(18, 14)], [(24, 43)], [(26, 12), (26, 32)], [(27, 12), (27, 34)], [(30, 7)], [(31, 43)], [(33, 10)], [(37, 8)], [(38, 7), (38, 7)], [(40, 11)], [(42, 13)], [(44, 4)], [(45, 9)], [(46, 23)], [(48, 8), (48, 38)], [(49, 13), (49, 28), (49, 44)], [(50, 4), (50, 46)]]\n",
      "Sorted list based on 2nd element:\n",
      "[[(44, 4), (50, 4)], [(12, 6)], [(30, 7), (38, 7), (38, 7)], [(37, 8), (48, 8)], [(45, 9)], [(33, 10)], [(40, 11)], [(26, 12), (27, 12)], [(42, 13), (49, 13)], [(18, 14)], [(46, 23)], [(8, 25)], [(3, 26)], [(49, 28)], [(26, 32)], [(27, 34)], [(13, 35)], [(48, 38)], [(14, 41)], [(24, 43), (31, 43)], [(49, 44)], [(50, 46)], [(13, 50)]]\n"
     ]
    }
   ],
   "source": [
    "import random\n",
    "\n",
    "def sort_list(tuple_list, idx):\n",
    "    sorted_list = []\n",
    "    ### START CODE HERE ###\n",
    "    def finder(c,d):\n",
    "        result =[]\n",
    "        indices = [i for i, x in enumerate(c) if x == d]\n",
    "        e = []\n",
    "        for i in indices:\n",
    "            e += [tuple_list[i][idx ^ 1]]\n",
    "        f = sorted(e)  \n",
    "        for i in range(len(f)):\n",
    "            if (idx == 0):\n",
    "                result.append((d,f[i]))\n",
    "            else:\n",
    "                result.append((f[i],d))\n",
    "        return result    \n",
    "    def removeDuplicate( lst ):\n",
    "        new_list=[]\n",
    "        for i in lst:\n",
    "            if(new_list.count(i)==0):\n",
    "                new_list += [i]\n",
    "        return new_list\n",
    "    a = []\n",
    "    b = []\n",
    "    for i in range(len(tuple_list)):\n",
    "        a += [tuple_list[i][idx]]\n",
    "    b = sorted(a)\n",
    "    b = removeDuplicate(b)\n",
    "    for i in range(len(b)):\n",
    "        sorted_list.append(finder(a,b[i])) \n",
    "    ### END CODE HERE ###\n",
    "\n",
    "    return sorted_list\n",
    "\n",
    "\n",
    "#tuple_list =  [(10,47),(15,47),(77,23),(15,34)]\n",
    "tuple_list = [(random.randint(1,50), random.randint(1, 50)) for i in range(30)]\n",
    "\n",
    "\n",
    "\n",
    "\n",
    "print('Original list:')\n",
    "print(tuple_list)\n",
    "\n",
    "idx = 0\n",
    "print('Sorted list based on 1st element:')\n",
    "print(sort_list(tuple_list, idx))\n",
    "\n",
    "idx = 1\n",
    "print('Sorted list based on 2nd element:')\n",
    "print(sort_list(tuple_list, idx))"
   ]
  },
  {
   "cell_type": "markdown",
   "metadata": {
    "id": "Fh7W6BTlb2yO"
   },
   "source": [
    "## 4.(9 pts)\n",
    "Complete the body of the function below according to its docstring."
   ]
  },
  {
   "cell_type": "code",
   "execution_count": 3,
   "metadata": {
    "id": "roHbRofDb2yW"
   },
   "outputs": [
    {
     "name": "stdout",
     "output_type": "stream",
     "text": [
      "[1501, 1539, 1577, 1615, 1653, 1691, 1729, 1767, 1805, 1843, 1881, 1919, 1957, 1995, 2033, 2071, 2109, 2147, 2185]\n"
     ]
    }
   ],
   "source": [
    "def my_func(a,b):\n",
    "    \"\"\"Write a function that get two numbers and return a list contaioning all such numbers which are divisble by first number and\n",
    "    not a multiple of second one, between 1500 and 2200 (both included).\n",
    "    \"\"\"\n",
    "    result = []\n",
    "    ### START CODE HERE ###\n",
    "    for i in range(1500,2200):\n",
    "        if(i%a==0)and(i%b!=0):\n",
    "            result += [i]\n",
    "    ### END CODE HERE ###\n",
    "\n",
    "    return result\n",
    "\n",
    "\n",
    "print(my_func(19, 2))"
   ]
  },
  {
   "cell_type": "markdown",
   "metadata": {
    "id": "7bHOPT0Bb2ya"
   },
   "source": [
    "## 5.(5 pts)\n",
    "\n",
    "> A simple exercise! Run the cell below and try to explain the results:\n",
    "```\n",
    "it prints out the result of the equation in format of the most precise element of the equation. "
   ]
  },
  {
   "cell_type": "code",
   "execution_count": 62,
   "metadata": {
    "id": "XfKDiJnmb2yc"
   },
   "outputs": [
    {
     "name": "stdout",
     "output_type": "stream",
     "text": [
      "1.0\n",
      "0.0\n",
      "1.0\n"
     ]
    }
   ],
   "source": [
    "print( 1.0 + 1.0 - 1.0 )\n",
    "print( 1.0 + 1.0e20 - 1.0e20 )\n",
    "print( 1.0e20 - 1.0e20 + 1 )"
   ]
  },
  {
   "cell_type": "markdown",
   "metadata": {
    "id": "7h4sIJUNuVIw"
   },
   "source": [
    "## 6.(10 pts)\n",
    "Write a function that takes a list of positive integers as input and returns `True` if all elements are prime numbers.\n",
    "> Hint: first write a function to check if a number is prime\n"
   ]
  },
  {
   "cell_type": "code",
   "execution_count": 65,
   "metadata": {
    "id": "b45e253a"
   },
   "outputs": [
    {
     "name": "stdout",
     "output_type": "stream",
     "text": [
      "true\n",
      "false\n",
      "false\n"
     ]
    }
   ],
   "source": [
    "a = [8, 3, 4, 7, 9]\n",
    "b = [3, 5, 7, 13]\n",
    "c = [1, 5, 3]\n",
    "\n",
    "### START CODE HERE ###\n",
    "\n",
    "\n",
    "def is_all_prime(x):\n",
    "    prime = []\n",
    "    true = \"true\"\n",
    "    for i in x:\n",
    "          prime += is_prime(i)\n",
    "    if (prime.count(0)==0):\n",
    "          true = \"false\"\n",
    "    return true\n",
    "\n",
    "def is_prime(x):\n",
    "    out = 1\n",
    "    for i in range(2,x):\n",
    "        if(int(x/i)==x/i):\n",
    "            out = 0\n",
    "    return [out]\n",
    "### END CODE HERE ###\n",
    "\n",
    "print(is_all_prime(a))\n",
    "print(is_all_prime(b))\n",
    "print(is_all_prime(c))"
   ]
  },
  {
   "cell_type": "markdown",
   "metadata": {
    "id": "7b8cc97f"
   },
   "source": [
    "## 7.(4 pts)\n",
    "There is a problem with the piece of code below. Try to identify the problem and fix it.\n",
    "\n",
    "if the list contains \"0\" output will be incorrect because \"0%7=0\" which is not desirable. "
   ]
  },
  {
   "cell_type": "code",
   "execution_count": 67,
   "metadata": {
    "id": "f833e9ef"
   },
   "outputs": [
    {
     "name": "stdout",
     "output_type": "stream",
     "text": [
      "False\n"
     ]
    }
   ],
   "source": [
    "a = [0,1,2]\n",
    "def has_lucky_number(nums):\n",
    "    \"\"\"Return whether the given list of numbers is lucky. A lucky list contains\n",
    "    at least one number divisible by 7.\n",
    "    \"\"\"\n",
    "    for num in nums:\n",
    "        if num % 7 == 0 and num != 0:\n",
    "            return True\n",
    "        else:\n",
    "            return False\n",
    "print(has_lucky_number(a)) "
   ]
  },
  {
   "cell_type": "markdown",
   "metadata": {
    "id": "a1c83bc6"
   },
   "source": [
    "## 8.(9 pts)\n",
    "Write a function which takes a tuple of 2 integers `(X,Y)` as input and returns a 2-dimensional list. The element value in the i-th row and j-th column of the array should be `i*j`. Note: `i=0,1.., X-1; j=0,1,..,Y-1`.\n",
    "\n",
    "Example:\n",
    "\n",
    "\n",
    "```\n",
    "input : (3,5)\n",
    "output: [[0, 0, 0, 0, 0], [0, 1, 2, 3, 4], [0, 2, 4, 6, 8]]\n",
    "```\n",
    "\n"
   ]
  },
  {
   "cell_type": "code",
   "execution_count": 94,
   "metadata": {
    "id": "0034ef29"
   },
   "outputs": [
    {
     "name": "stdout",
     "output_type": "stream",
     "text": [
      "[[0, 0, 0, 0, 0], [0, 1, 2, 3, 4], [0, 2, 4, 6, 8]]\n"
     ]
    }
   ],
   "source": [
    "def generate_multidim_list(dimensions):\n",
    "    multilist = []\n",
    "    ### START CODE HERE ###\n",
    "    for i in range(dimensions[0]):\n",
    "        a = []\n",
    "        for j in range(dimensions[1]):\n",
    "            a = a + [i*j]\n",
    "        multilist +=  [a]\n",
    "    ### END CODE HERE ###\n",
    "    return multilist\n",
    "\n",
    "dimensions = (3,5)\n",
    "print(generate_multidim_list(dimensions))"
   ]
  },
  {
   "cell_type": "markdown",
   "metadata": {
    "id": "391f8d6c"
   },
   "source": [
    "## 9.(9 pts)\n",
    "Write a function to print the given list after removing all duplicate values with original order reserved. Example:\n",
    "\n",
    "\n",
    "```\n",
    "input list: [12,24,35,24,88,120,155,88,120,155]\n",
    "printed list: [12,24,35,88,120,155]\n",
    "```\n"
   ]
  },
  {
   "cell_type": "code",
   "execution_count": 95,
   "metadata": {
    "id": "OoHjh1TTJLZo"
   },
   "outputs": [
    {
     "name": "stdout",
     "output_type": "stream",
     "text": [
      "[12, 24, 35, 88, 120, 155]\n"
     ]
    }
   ],
   "source": [
    "def removeDuplicate( lst ):\n",
    "    new_list=[]\n",
    "    ### START CODE HERE ###\n",
    "    for i in lst:\n",
    "        if(new_list.count(i)==0):\n",
    "            new_list += [i]\n",
    "    ### END CODE HERE ###\n",
    "    print(new_list)\n",
    "\n",
    "lst=[12,24,35,24,88,120,155,88,120,155]\n",
    "removeDuplicate(lst)"
   ]
  },
  {
   "cell_type": "markdown",
   "metadata": {
    "id": "cc3e38bf"
   },
   "source": [
    "## 10.(7 pts)\n",
    "Write a program that accepts a sentence and calculate the number of letters and digits. Example:\n",
    "```\n",
    "input: hello world! 123\n",
    "output:\n",
    "DIGITS 3\n",
    "LETTERS 10\n",
    "````"
   ]
  },
  {
   "cell_type": "code",
   "execution_count": 106,
   "metadata": {
    "id": "XWDpd6awSZE6"
   },
   "outputs": [
    {
     "name": "stdout",
     "output_type": "stream",
     "text": [
      "Input your sntetce: 55ll--\n",
      "55ll--\n",
      "{'DIGITS': 2, 'LETTERS': 2}\n"
     ]
    }
   ],
   "source": [
    "s = str(input(\"Input your sntetce: \"))\n",
    "d={\"DIGITS\":0, \"LETTERS\":0}\n",
    "\n",
    "### START CODE HERE ###\n",
    "for i in range(len(s)):\n",
    "    if ((ord(s[i]) in (range(65,91)))or(ord(s[i]) in range(97,123))):\n",
    "         d[\"LETTERS\"] += 1 \n",
    "    elif ord(s[i]) in range(48,58): \n",
    "         d[\"DIGITS\"] += 1    \n",
    "### END CODE HERE ###\n",
    "\n",
    "print(s)\n",
    "print(d)"
   ]
  },
  {
   "cell_type": "markdown",
   "metadata": {
    "id": "rACs4nT4U4hd"
   },
   "source": [
    "## 11.(9 pts)\n",
    "Write a function to find all possible pairs in a list whose sum is equal to a given value.\n",
    "\n",
    "\n",
    "```\n",
    "list = [1,2,3,4,5,6,7,8,9]\n",
    "val = 5\n",
    "output = [(3, 2), (4, 1)]\n",
    "```\n",
    "\n"
   ]
  },
  {
   "cell_type": "code",
   "execution_count": 120,
   "metadata": {
    "id": "3CAf_3JsTOwT"
   },
   "outputs": [
    {
     "name": "stdout",
     "output_type": "stream",
     "text": [
      "Original list:\n",
      "[1, 2, 3, 4, 5, 6, 7, 8, 9]\n",
      "List of all pairs with given sum: 10\n",
      "[(1, 9), (2, 8), (3, 7), (4, 6)]\n",
      "List of all pairs with given sum: 35\n",
      "[]\n",
      "List of all pairs with given sum: 5\n",
      "[(1, 4), (2, 3)]\n"
     ]
    }
   ],
   "source": [
    "#assuming elements are unique and sorted descending,otherwise sorting and duplicate removal needed\n",
    "def find_pairs(lst, val):\n",
    "    pairs = []\n",
    "    ### START CODE HERE ###\n",
    "    for i in range(len(lst)):\n",
    "        for j in range(i+1,len(lst)):\n",
    "            if (lst[i] + lst[j] == val):\n",
    "                pairs.append((lst[i],lst[j]))\n",
    "    ### END CODE HERE ###\n",
    "    return pairs\n",
    "\n",
    "nums = [1,2,3,4,5,6,7,8,9]\n",
    "print(\"Original list:\")\n",
    "print(nums)\n",
    "\n",
    "val = 10\n",
    "print(\"List of all pairs with given sum:\",val)\n",
    "print(find_pairs(nums,val))\n",
    "\n",
    "val = 35\n",
    "print(\"List of all pairs with given sum:\",val)\n",
    "print(find_pairs(nums,val))\n",
    "\n",
    "val = 5\n",
    "print(\"List of all pairs with given sum:\",val)\n",
    "print(find_pairs(nums,val))"
   ]
  },
  {
   "cell_type": "markdown",
   "metadata": {
    "id": "e89c75ed"
   },
   "source": [
    "## 12.(10 pts)\n",
    "Write a Python program to calculate the sum of positive and negative values of a given list using the `lambda` function."
   ]
  },
  {
   "cell_type": "code",
   "execution_count": 29,
   "metadata": {
    "id": "_Ii48Mv4aJAK"
   },
   "outputs": [
    {
     "name": "stdout",
     "output_type": "stream",
     "text": [
      "Original list: [2, 4, -6, -9, 11, -12, 14, -5, 17]\n",
      "Sum of positive values:  48\n",
      "Sum of negative values:  -32\n"
     ]
    }
   ],
   "source": [
    "nums = [2, 4, -6, -9, 11, -12, 14, -5, 17]\n",
    "negative_sum = 0\n",
    "positive_sum = 0\n",
    "print(\"Original list:\",nums)\n",
    "\n",
    "### START CODE HERE ###\n",
    "negative_sum = sum(filter(lambda x: x < 0, nums))\n",
    "positive_sum = sum(filter(lambda x: x > 0, nums))\n",
    "### END CODE HERE ###\n",
    "print(\"Sum of positive values: \",positive_sum)\n",
    "print(\"Sum of negative values: \",negative_sum)"
   ]
  }
 ],
 "metadata": {
  "colab": {
   "provenance": []
  },
  "kernelspec": {
   "display_name": "Python 3 (ipykernel)",
   "language": "python",
   "name": "python3"
  },
  "language_info": {
   "codemirror_mode": {
    "name": "ipython",
    "version": 3
   },
   "file_extension": ".py",
   "mimetype": "text/x-python",
   "name": "python",
   "nbconvert_exporter": "python",
   "pygments_lexer": "ipython3",
   "version": "3.11.5"
  }
 },
 "nbformat": 4,
 "nbformat_minor": 1
}
